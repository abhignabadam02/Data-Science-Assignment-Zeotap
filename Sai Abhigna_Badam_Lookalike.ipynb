{
 "cells": [
  {
   "cell_type": "code",
   "execution_count": 1,
   "id": "b441bbb0-aa7b-4d07-a285-533e6dd06c86",
   "metadata": {},
   "outputs": [],
   "source": [
    "import pandas as pd\n",
    "from sklearn.metrics.pairwise import cosine_similarity\n",
    "from sklearn.preprocessing import MinMaxScaler"
   ]
  },
  {
   "cell_type": "code",
   "execution_count": 3,
   "id": "71ae970a-d315-4df2-8a64-73412b9195fe",
   "metadata": {},
   "outputs": [],
   "source": [
    "customers = pd.read_csv(\"Customers.csv\")\n",
    "transactions = pd.read_csv(\"Transactions.csv\")\n",
    "products = pd.read_csv(\"Products.csv\")"
   ]
  },
  {
   "cell_type": "code",
   "execution_count": 5,
   "id": "2b8018b1-30ab-45e6-b55e-015d62530d7e",
   "metadata": {},
   "outputs": [],
   "source": [
    "data = transactions.merge(products, on='ProductID').merge(customers, on='CustomerID')\n"
   ]
  },
  {
   "cell_type": "code",
   "execution_count": 7,
   "id": "c1a7bb5d-48d1-4592-9e83-a3f3b6bb5ad5",
   "metadata": {},
   "outputs": [],
   "source": [
    "customer_features = data.groupby('CustomerID').agg(\n",
    "    TotalSpend=('TotalValue', 'sum'),\n",
    "    NumTransactions=('TransactionID', 'count'),\n",
    "    AvgTransactionValue=('TotalValue', 'mean')\n",
    ").reset_index()"
   ]
  },
  {
   "cell_type": "code",
   "execution_count": 9,
   "id": "fb200757-2a4c-4d2a-bba8-9e467d07451a",
   "metadata": {},
   "outputs": [],
   "source": [
    "customer_data = customers.merge(customer_features, on='CustomerID', how='left')\n"
   ]
  },
  {
   "cell_type": "code",
   "execution_count": 11,
   "id": "492cf821-b961-4653-921c-4fba58cf2a33",
   "metadata": {},
   "outputs": [],
   "source": [
    "customer_data.fillna({'TotalSpend': 0, 'NumTransactions': 0, 'AvgTransactionValue': 0}, inplace=True)\n"
   ]
  },
  {
   "cell_type": "code",
   "execution_count": 13,
   "id": "4c3cee40-7ffa-47ea-ac80-7cc7a9fac0c0",
   "metadata": {},
   "outputs": [],
   "source": [
    "scaler = MinMaxScaler()\n",
    "numeric_features = ['TotalSpend', 'NumTransactions', 'AvgTransactionValue']\n",
    "customer_data[numeric_features] = scaler.fit_transform(customer_data[numeric_features])\n"
   ]
  },
  {
   "cell_type": "code",
   "execution_count": 15,
   "id": "23085dd5-5076-4e05-a1fd-1d0fec9913b5",
   "metadata": {},
   "outputs": [],
   "source": [
    "similarity_matrix = cosine_similarity(customer_data[numeric_features])\n"
   ]
  },
  {
   "cell_type": "code",
   "execution_count": 17,
   "id": "502c4aaf-76b8-45ad-9a3c-3c6db840443d",
   "metadata": {},
   "outputs": [],
   "source": [
    "similarity_df = pd.DataFrame(similarity_matrix, index=customer_data['CustomerID'], columns=customer_data['CustomerID'])\n"
   ]
  },
  {
   "cell_type": "code",
   "execution_count": 19,
   "id": "ba445ca1-026a-4cc5-8eef-6f57c09e5996",
   "metadata": {},
   "outputs": [],
   "source": [
    "lookalike_results = {}\n",
    "for customer_id in customer_data['CustomerID'][:20]:\n",
    "    # Get similarity scores for the customer\n",
    "    similar_customers = similarity_df[customer_id].sort_values(ascending=False)[1:4]  # Exclude self\n",
    "    lookalike_results[customer_id] = list(similar_customers.items())"
   ]
  },
  {
   "cell_type": "code",
   "execution_count": 21,
   "id": "da2de0e1-fc21-4e81-8021-e21dd8c940b0",
   "metadata": {},
   "outputs": [],
   "source": [
    "lookalike_output = pd.DataFrame([\n",
    "    {'CustomerID': cust_id, 'Lookalikes': similar}\n",
    "    for cust_id, similar in lookalike_results.items()\n",
    "])\n",
    "lookalike_output.to_csv(\"Lookalike.csv\", index=False)"
   ]
  },
  {
   "cell_type": "code",
   "execution_count": 23,
   "id": "c37c11d7-a9af-418c-94c2-75a4b9b79b5e",
   "metadata": {},
   "outputs": [
    {
     "name": "stdout",
     "output_type": "stream",
     "text": [
      "Lookalike model recommendations saved to 'Lookalike.csv'.\n"
     ]
    }
   ],
   "source": [
    "print(\"Lookalike model recommendations saved to 'Lookalike.csv'.\")"
   ]
  },
  {
   "cell_type": "code",
   "execution_count": null,
   "id": "8b16f641-1772-4879-b7a2-76f872e9ae7c",
   "metadata": {},
   "outputs": [],
   "source": []
  }
 ],
 "metadata": {
  "kernelspec": {
   "display_name": "Python 3 (ipykernel)",
   "language": "python",
   "name": "python3"
  },
  "language_info": {
   "codemirror_mode": {
    "name": "ipython",
    "version": 3
   },
   "file_extension": ".py",
   "mimetype": "text/x-python",
   "name": "python",
   "nbconvert_exporter": "python",
   "pygments_lexer": "ipython3",
   "version": "3.12.7"
  }
 },
 "nbformat": 4,
 "nbformat_minor": 5
}
